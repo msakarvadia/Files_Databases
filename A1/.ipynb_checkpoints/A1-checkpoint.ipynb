{
 "cells": [
  {
   "cell_type": "markdown",
   "metadata": {},
   "source": [
    "# Assignment 1 Comp 521 Spring 2021\n",
    "\n",
    "Answer each question below by filling in code at the point indicated.\n",
    "Do not modify any of the other cells. \n",
    "\n",
    "You __must__ run the cells in order. It looks like you can come back later after restarting and pick up where you left off but that is not the case. When restarting you always have to start at the top of the notebook and run each cell in turn. "
   ]
  },
  {
   "cell_type": "code",
   "execution_count": 28,
   "metadata": {},
   "outputs": [],
   "source": [
    "# fill in the information below\n",
    "Author = 'mansisak'\n",
    "Collaborators = []"
   ]
  },
  {
   "cell_type": "code",
   "execution_count": 29,
   "metadata": {},
   "outputs": [],
   "source": [
    "# checker setup do NOT change this\n",
    "import comp521\n",
    "check, report = comp521.start('A1')"
   ]
  },
  {
   "cell_type": "code",
   "execution_count": 30,
   "metadata": {},
   "outputs": [],
   "source": [
    "# setup, no need to change this\n",
    "import sqlite3"
   ]
  },
  {
   "cell_type": "markdown",
   "metadata": {},
   "source": [
    "For this assignment you have relations with these schemas\n",
    "\n",
    " ```sql\n",
    " create table Department (\n",
    "     did integer primary key, \n",
    "     name text)\n",
    "\n",
    " create table Course (\n",
    "     cid integer primary key,\n",
    "     did integer,\n",
    "     name text,\n",
    "     num integer,\n",
    "     creditHours integer,\n",
    "     foreign key (did) references Department)\n",
    "     \n",
    " create table Student (\n",
    "     sid integer primary key,\n",
    "     did integer,\n",
    "     fname text,\n",
    "     lname text,\n",
    "     foreign key (did) references Department)\n",
    "\n",
    " create table Enrolled_in (\n",
    "     eid integer primary key,\n",
    "     sid integer,\n",
    "     cid integer,\n",
    "     foreign key (sid) references Student,\n",
    "     foreign key (cid) references Course)\n",
    "       \n",
    " ```\n",
    "\n",
    "\n",
    "\n",
    "I will open the database for you below. "
   ]
  },
  {
   "cell_type": "code",
   "execution_count": 31,
   "metadata": {},
   "outputs": [],
   "source": [
    "# do not change this\n",
    "db = sqlite3.connect('CourseEnrollment.sqlite')\n",
    "cursor = db.cursor()"
   ]
  },
  {
   "cell_type": "code",
   "execution_count": 32,
   "metadata": {},
   "outputs": [
    {
     "data": {
      "text/plain": [
       "\"\\ncursor.execute('''\\nCREATE TABLE Department (\\n    did INTEGER,\\n    name TEXT,\\n    PRIMARY KEY (did)\\n)\\n''')\\n\\ncursor.execute('''\\nCREATE TABLE Course (\\n    cid INTEGER,\\n    did INTEGER,\\n    name TEXT,\\n    num INTEGER,\\n    creditHours INTEGER,\\n    PRIMARY KEY (did),\\n    FOREIGN KEY (did) REFERENCES Depeartment\\n)\\n''')\\n\\ncursor.execute('''\\nCREATE TABLE Student (\\n    sid INTEGER,\\n    sid INTEGER,\\n    cid INTEGER,\\n    fname TEXT,\\n    lname TEXT,\\n    PRIMARY KEY (sid),\\n    FOREIGN KEY (did) REFERENCES Depeartment\\n)\\n''')\\n\\ncursor.execute('''\\nCREATE TABLE Enrolled_in (\\n    eid INTEGER,\\n    did INTEGER,\\n    fname TEXT,\\n    lname TEXT,\\n    PRIMARY KEY (eid),\\n    FOREIGN KEY (sid) REFERENCES Student,\\n    FOREIGN KEY (cid) REFERNECES Course\\n)\\n''')\\n\""
      ]
     },
     "execution_count": 32,
     "metadata": {},
     "output_type": "execute_result"
    }
   ],
   "source": [
    "\"\"\"\n",
    "cursor.execute('''\n",
    "CREATE TABLE Department (\n",
    "    did INTEGER,\n",
    "    name TEXT,\n",
    "    PRIMARY KEY (did)\n",
    ")\n",
    "''')\n",
    "\n",
    "cursor.execute('''\n",
    "CREATE TABLE Course (\n",
    "    cid INTEGER,\n",
    "    did INTEGER,\n",
    "    name TEXT,\n",
    "    num INTEGER,\n",
    "    creditHours INTEGER,\n",
    "    PRIMARY KEY (did),\n",
    "    FOREIGN KEY (did) REFERENCES Depeartment\n",
    ")\n",
    "''')\n",
    "\n",
    "cursor.execute('''\n",
    "CREATE TABLE Student (\n",
    "    sid INTEGER,\n",
    "    sid INTEGER,\n",
    "    cid INTEGER,\n",
    "    fname TEXT,\n",
    "    lname TEXT,\n",
    "    PRIMARY KEY (sid),\n",
    "    FOREIGN KEY (did) REFERENCES Depeartment\n",
    ")\n",
    "''')\n",
    "\n",
    "cursor.execute('''\n",
    "CREATE TABLE Enrolled_in (\n",
    "    eid INTEGER,\n",
    "    did INTEGER,\n",
    "    fname TEXT,\n",
    "    lname TEXT,\n",
    "    PRIMARY KEY (eid),\n",
    "    FOREIGN KEY (sid) REFERENCES Student,\n",
    "    FOREIGN KEY (cid) REFERNECES Course\n",
    ")\n",
    "''')\n",
    "\"\"\""
   ]
  },
  {
   "cell_type": "markdown",
   "metadata": {},
   "source": [
    "For the next three questions write a SQL query that produces a result that is equivalent to the Relational Algebra expression. I will execute the SQL query for you.\n",
    "\n",
    "## Question 1\n",
    "\n",
    "Translate this Relational Algebra expression into SQL: $\\pi_{name} \\sigma_{num < 500} Course$"
   ]
  },
  {
   "cell_type": "code",
   "execution_count": 33,
   "metadata": {},
   "outputs": [
    {
     "name": "stdout",
     "output_type": "stream",
     "text": [
      "Q1 appears correct\n"
     ]
    }
   ],
   "source": [
    "# write your SQL expression here\n",
    "#LinAlg exrpression is asking for list of names \n",
    "#of courses that are numbered under 500\n",
    "sql1 = \"\"\"\n",
    "SELECT name\n",
    "FROM Course\n",
    "WHERE num<500\n",
    "\"\"\"\n",
    "\n",
    "\n",
    "# checking code. Do NOT change this.\n",
    "cursor.execute(sql1)\n",
    "c1 = cursor.fetchall()\n",
    "check('Q1', c1, points=5, sort=True)"
   ]
  },
  {
   "cell_type": "markdown",
   "metadata": {},
   "source": [
    "## Question 2\n",
    "\n",
    "$\\pi_{fname,lname}\\sigma_{name='Files\\ and\\ Databases'}(Student\\bowtie Enrolled\\_In \\bowtie Course)$\n",
    "\n"
   ]
  },
  {
   "cell_type": "code",
   "execution_count": 34,
   "metadata": {},
   "outputs": [
    {
     "name": "stdout",
     "output_type": "stream",
     "text": [
      "Q2 appears correct\n"
     ]
    }
   ],
   "source": [
    "# Assign your result to c2\n",
    "#LinAlg expressin is asking for us to print student's first and last name\n",
    "#if they are entrolled in Files and Databases\n",
    "sql2 = \"\"\"\n",
    "SELECT S.fname, S.lname\n",
    "FROM Student S, Course C, Enrolled_in E\n",
    "WHERE C.name LIKE 'Files and Databases' AND \n",
    "E.sid==S.sid AND\n",
    "C.cid==E.cid\n",
    "\"\"\"\n",
    "\n",
    "# checking\n",
    "cursor.execute(sql2)\n",
    "c2 = cursor.fetchall()\n",
    "check('Q2', c2, points=5, sort=True)"
   ]
  },
  {
   "cell_type": "markdown",
   "metadata": {},
   "source": [
    "## Question 3\n",
    "$ \\pi_{fname,lname} \\sigma_{name='ANTH'} (Student \\bowtie Department) $"
   ]
  },
  {
   "cell_type": "code",
   "execution_count": 35,
   "metadata": {},
   "outputs": [
    {
     "name": "stdout",
     "output_type": "stream",
     "text": [
      "Q3 appears correct\n"
     ]
    }
   ],
   "source": [
    "# assign to c3\n",
    "#Print fname and last name of any student who is in the ANTH department\n",
    "sql3 = \"\"\"\n",
    "SELECT S.fname, S.lname\n",
    "FROM Student S, Department D\n",
    "WHERE D.name LIKE 'ANTH' AND \n",
    "D.did==S.did\n",
    "\"\"\"\n",
    "\n",
    "# checking\n",
    "cursor.execute(sql3)\n",
    "c3 = cursor.fetchall()\n",
    "check('Q3', c3, points=5, sort=True)"
   ]
  },
  {
   "cell_type": "markdown",
   "metadata": {},
   "source": [
    "## Question 4\n",
    "$ \\pi_{name} \\sigma_{creditHours=3} Course $"
   ]
  },
  {
   "cell_type": "code",
   "execution_count": 36,
   "metadata": {},
   "outputs": [
    {
     "name": "stdout",
     "output_type": "stream",
     "text": [
      "Q4 appears correct\n"
     ]
    }
   ],
   "source": [
    "# assign to sql4\n",
    "#Want name of all courses that are 3 credit hours\n",
    "sql4 = \"\"\"\n",
    "SELECT name\n",
    "FROM Course\n",
    "WHERE creditHours==3\n",
    "\"\"\"\n",
    "\n",
    "# checking\n",
    "cursor.execute(sql4)\n",
    "c4 = cursor.fetchall()\n",
    "check('Q4', c4, points=5, sort=True)"
   ]
  },
  {
   "cell_type": "markdown",
   "metadata": {},
   "source": [
    "For these next questions, write a SQL query to fetch the requested information. From here on, I want you\n",
    "to write the Python code as well as the query. The questions above provide an example of what you must type.\n",
    "\n",
    "## Question 5\n",
    "Find the names of all 4 credit hour courses."
   ]
  },
  {
   "cell_type": "code",
   "execution_count": 37,
   "metadata": {},
   "outputs": [
    {
     "name": "stdout",
     "output_type": "stream",
     "text": [
      "Q5 appears correct\n"
     ]
    }
   ],
   "source": [
    "# your code here\n",
    "c5 = [] # the result of fetch all goes in this variable\n",
    "\n",
    "sql5 = \"\"\"\n",
    "SELECT name\n",
    "FROM Course\n",
    "WHERE creditHours==4\n",
    "\"\"\"\n",
    "\n",
    "cursor.execute(sql5)\n",
    "c5 = cursor.fetchall()\n",
    "check('Q5', c5, points=10, sort=True)"
   ]
  },
  {
   "cell_type": "markdown",
   "metadata": {},
   "source": [
    "## Question 6\n",
    "Find the first and last names of all students enrolled in COMP courses."
   ]
  },
  {
   "cell_type": "code",
   "execution_count": 38,
   "metadata": {},
   "outputs": [
    {
     "name": "stdout",
     "output_type": "stream",
     "text": [
      "Q6 appears correct\n"
     ]
    }
   ],
   "source": [
    "# your code here\n",
    "c6 = [] # the result of fetch all goes in this variable\n",
    "\n",
    "sql6 = \"\"\"\n",
    "SELECT DISTINCT S.fname, S.lname\n",
    "FROM Student S, Enrolled_in E, Department D, Course C\n",
    "WHERE D.name LIKE 'COMP' AND \n",
    "C.did==D.did AND\n",
    "E.sid==S.sid AND\n",
    "C.cid==E.cid\n",
    "\n",
    "\"\"\"\n",
    "\n",
    "cursor.execute(sql6)\n",
    "c6 = cursor.fetchall()\n",
    "check('Q6', c6, points=10, sort=True)"
   ]
  },
  {
   "cell_type": "markdown",
   "metadata": {},
   "source": [
    "## Question 7\n",
    "Find the first and last names of all students enrolled in courses of at least 500 level."
   ]
  },
  {
   "cell_type": "code",
   "execution_count": 39,
   "metadata": {},
   "outputs": [
    {
     "name": "stdout",
     "output_type": "stream",
     "text": [
      "Q7 appears correct\n"
     ]
    }
   ],
   "source": [
    "# your code here\n",
    "c7 = [] # the result of fetch all goes in this variable\n",
    "sql7 = \"\"\"\n",
    "SELECT DISTINCT S.fname, S.lname\n",
    "FROM Student S, Enrolled_in E, Course C\n",
    "WHERE C.num>=500 AND\n",
    "E.sid==S.sid AND\n",
    "C.cid==E.cid\n",
    "\"\"\"\n",
    "\n",
    "cursor.execute(sql7)\n",
    "c7 = cursor.fetchall()\n",
    "check('Q7', c7, points=10, sort=True)"
   ]
  },
  {
   "cell_type": "markdown",
   "metadata": {},
   "source": [
    "## Question 8\n",
    "Find the first and last names of all students enrolled in 'Data Structures' and 'Anthropology of the Body and the Subject'."
   ]
  },
  {
   "cell_type": "code",
   "execution_count": 40,
   "metadata": {},
   "outputs": [
    {
     "name": "stdout",
     "output_type": "stream",
     "text": [
      "Q8 appears correct\n"
     ]
    }
   ],
   "source": [
    "# your code here\n",
    "c8 = [] # the result of fetch all goes in this variable\n",
    "sql8 = \"\"\"\n",
    "SELECT DISTINCT S.fname, S.lname\n",
    "FROM Student S, Enrolled_in E1, Course C1, Enrolled_in E2, Course C2\n",
    "WHERE (C1.name LIKE 'Data Structures' AND C2.name LIKE 'Anthropology of the Body and the Subject') AND\n",
    "E1.sid==S.sid AND\n",
    "C1.cid==E1.cid AND\n",
    "E2.sid==S.sid AND\n",
    "C2.cid==E2.cid\n",
    "\"\"\"\n",
    "\n",
    "cursor.execute(sql8)\n",
    "c8 = cursor.fetchall()\n",
    "check('Q8', c8, points=15, sort=True)"
   ]
  },
  {
   "cell_type": "markdown",
   "metadata": {},
   "source": [
    "## Done!\n",
    "\n",
    "Now get your report and submit your assignment. We will post submission instructions separately."
   ]
  },
  {
   "cell_type": "code",
   "execution_count": 41,
   "metadata": {},
   "outputs": [
    {
     "name": "stdout",
     "output_type": "stream",
     "text": [
      "  Collaborators: []\n",
      "Report for mansisak\n",
      "  8 of 8 appear correct, 65 of 65 points\n"
     ]
    }
   ],
   "source": [
    "report(Author, Collaborators)"
   ]
  }
 ],
 "metadata": {
  "kernelspec": {
   "display_name": "Python 3",
   "language": "python",
   "name": "python3"
  },
  "language_info": {
   "codemirror_mode": {
    "name": "ipython",
    "version": 3
   },
   "file_extension": ".py",
   "mimetype": "text/x-python",
   "name": "python",
   "nbconvert_exporter": "python",
   "pygments_lexer": "ipython3",
   "version": "3.8.5"
  },
  "toc": {
   "base_numbering": 1,
   "nav_menu": {},
   "number_sections": true,
   "sideBar": true,
   "skip_h1_title": false,
   "title_cell": "Table of Contents",
   "title_sidebar": "Contents",
   "toc_cell": false,
   "toc_position": {},
   "toc_section_display": true,
   "toc_window_display": false
  }
 },
 "nbformat": 4,
 "nbformat_minor": 1
}
