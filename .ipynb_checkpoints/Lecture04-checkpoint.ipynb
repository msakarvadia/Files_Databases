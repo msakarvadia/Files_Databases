{
 "cells": [
  {
   "cell_type": "markdown",
   "metadata": {},
   "source": [
    "#### Set up a new database in memory and creates a *cursor* object to execute SQL statements with it."
   ]
  },
  {
   "cell_type": "code",
   "execution_count": 1,
   "metadata": {},
   "outputs": [],
   "source": [
    "import sqlite3\n",
    "\n",
    "conn = sqlite3.connect(':memory:')\n",
    "c = conn.cursor()\n"
   ]
  },
  {
   "cell_type": "markdown",
   "metadata": {},
   "source": [
    "#### Create a new relation (i.e., table) by specifying its schema"
   ]
  },
  {
   "cell_type": "code",
   "execution_count": 2,
   "metadata": {},
   "outputs": [
    {
     "data": {
      "text/plain": [
       "<sqlite3.Cursor at 0x1fe725706c0>"
      ]
     },
     "execution_count": 2,
     "metadata": {},
     "output_type": "execute_result"
    }
   ],
   "source": [
    "c.execute('''\n",
    "CREATE TABLE Students (\n",
    "  sid INTEGER, \n",
    "  name TEXT,\n",
    "  login TEXT,\n",
    "  age INTEGER, \n",
    "  gpa REAL)\n",
    "''')"
   ]
  },
  {
   "cell_type": "markdown",
   "metadata": {},
   "source": [
    "#### Create another one"
   ]
  },
  {
   "cell_type": "code",
   "execution_count": 182,
   "metadata": {},
   "outputs": [
    {
     "data": {
      "text/plain": [
       "<sqlite3.Cursor at 0x10a6f5e30>"
      ]
     },
     "execution_count": 182,
     "metadata": {},
     "output_type": "execute_result"
    }
   ],
   "source": [
    "c.execute('''\n",
    "CREATE TABLE Enrolled (\n",
    "sid INTEGER,\n",
    "cid TEXT,\n",
    "grade TEXT)\n",
    "''')"
   ]
  },
  {
   "cell_type": "markdown",
   "metadata": {},
   "source": [
    "#### Add some rows to the Students table"
   ]
  },
  {
   "cell_type": "code",
   "execution_count": 183,
   "metadata": {},
   "outputs": [
    {
     "data": {
      "text/plain": [
       "<sqlite3.Cursor at 0x10a6f5e30>"
      ]
     },
     "execution_count": 183,
     "metadata": {},
     "output_type": "execute_result"
    }
   ],
   "source": [
    "c.execute('''\n",
    "INSERT INTO Students (sid, name, login, age, gpa)\n",
    "VALUES (53666, 'Jones', 'jones@cs', 18, 3.4)\n",
    "''')\n",
    "c.execute('''\n",
    "INSERT INTO Students (sid, name, login, age, gpa)\n",
    "VALUES (53688, 'Smith', 'smith@cs', 18, 3.2)\n",
    "''')\n",
    "c.execute('''\n",
    "INSERT INTO Students (sid, name, login, age, gpa)\n",
    "VALUES (53650, 'Smith', 'smith@math', 19, 3.8)\n",
    "''')\n"
   ]
  },
  {
   "cell_type": "markdown",
   "metadata": {},
   "source": [
    "####  Example of a select statement with a qualifying where clause.\n",
    "* Note that equality testing is done with a single =\n",
    "* The \"S\" provides us with a shorthand for \"Students\" in other parts of the statement.\n",
    " * Don't need to use qualified column names if unambiguous otherwise.\n",
    "* fetchall() retrieves all tuples of the result as an array."
   ]
  },
  {
   "cell_type": "code",
   "execution_count": 184,
   "metadata": {},
   "outputs": [
    {
     "data": {
      "text/plain": [
       "[(53666, 'Jones', 'jones@cs', 18, 3.4), (53688, 'Smith', 'smith@cs', 18, 3.2)]"
      ]
     },
     "execution_count": 184,
     "metadata": {},
     "output_type": "execute_result"
    }
   ],
   "source": [
    "c.execute(\"SELECT * FROM Students S WHERE S.age=18\")\n",
    "c.fetchall()"
   ]
  },
  {
   "cell_type": "markdown",
   "metadata": {},
   "source": [
    "#### Same thing but this time printing out each tuple by iterating over the cursor."
   ]
  },
  {
   "cell_type": "code",
   "execution_count": 185,
   "metadata": {},
   "outputs": [
    {
     "name": "stdout",
     "output_type": "stream",
     "text": [
      "('Jones', 'jones@cs')\n",
      "('Smith', 'smith@cs')\n"
     ]
    }
   ],
   "source": [
    "c.execute(\"SELECT S.name, S.login FROM Students S WHERE S.age=18\")\n",
    "for r in c:\n",
    "    print(r)\n"
   ]
  },
  {
   "cell_type": "markdown",
   "metadata": {},
   "source": [
    "#### Here we do one select and use fetchone() to get the first tuple of the result and then do a different select.\n",
    "* Point here is that second select replaces result with respect to the cursor even though there were more tuples of the first result that hadn't been fetched yet."
   ]
  },
  {
   "cell_type": "code",
   "execution_count": 186,
   "metadata": {},
   "outputs": [
    {
     "name": "stdout",
     "output_type": "stream",
     "text": [
      "('Jones', 'jones@cs')\n",
      "(53666, 'Jones', 'jones@cs', 18, 3.4)\n"
     ]
    }
   ],
   "source": [
    "c.execute(\"SELECT S.name, S.login From Students S Where S.age=18\")\n",
    "print(c.fetchone())\n",
    "c.execute(\"SELECT * From Students S\")\n",
    "print(c.fetchone())"
   ]
  },
  {
   "cell_type": "markdown",
   "metadata": {},
   "source": [
    "#### Let's populate the Enrolled table now."
   ]
  },
  {
   "cell_type": "code",
   "execution_count": 187,
   "metadata": {},
   "outputs": [
    {
     "name": "stdout",
     "output_type": "stream",
     "text": [
      "(53688, 'Carnatic101', 'C')\n",
      "(53688, 'Reggae203', 'B')\n",
      "(53650, 'Topology112', 'A')\n",
      "(53666, 'History105', 'B')\n"
     ]
    }
   ],
   "source": [
    "c.execute('''\n",
    "INSERT INTO Enrolled (sid, cid, grade)\n",
    "VALUES (53688, 'Carnatic101', 'C')\n",
    "''')\n",
    "c.execute('''\n",
    "INSERT INTO Enrolled (sid, cid, grade)\n",
    "VALUES (53688, 'Reggae203', 'B')\n",
    "''')\n",
    "c.execute('''\n",
    "INSERT INTO Enrolled (sid, cid, grade)\n",
    "VALUES (53650, 'Topology112', 'A')\n",
    "''')\n",
    "c.execute('''\n",
    "INSERT INTO Enrolled (sid, cid, grade)\n",
    "VALUES (53666, 'History105', 'B')\n",
    "''')\n",
    "c.execute('SELECT * from Enrolled')\n",
    "for r in c:\n",
    "    print(r)\n"
   ]
  },
  {
   "cell_type": "markdown",
   "metadata": {},
   "source": [
    "#### An example of a SELECT that *joins* two tables.\n",
    "* We'll get into joins in more detail next week.\n",
    "* Notice condition in where clause that ensures that only combinations of rows in S and E that make sense are considered."
   ]
  },
  {
   "cell_type": "code",
   "execution_count": 188,
   "metadata": {},
   "outputs": [
    {
     "name": "stdout",
     "output_type": "stream",
     "text": [
      "('Smith', 'Topology112')\n"
     ]
    }
   ],
   "source": [
    "c.execute('''\n",
    "SELECT S.name, E.cid\n",
    "FROM Students S, Enrolled E\n",
    "WHERE S.sid = E.sid AND E.grade='A'\n",
    "''')\n",
    "for r in c:\n",
    "    print(r)"
   ]
  },
  {
   "cell_type": "markdown",
   "metadata": {},
   "source": [
    "#### Add another student"
   ]
  },
  {
   "cell_type": "code",
   "execution_count": 122,
   "metadata": {},
   "outputs": [
    {
     "data": {
      "text/plain": [
       "[(53666, 'Jones', 'jones@cs', 18, 3.4),\n",
       " (53688, 'Smith', 'smith@cs', 18, 3.2),\n",
       " (53650, 'Smith', 'smith@math', 19, 3.8),\n",
       " (53675, 'Smith', 'smith@phys', 18, 3.5)]"
      ]
     },
     "execution_count": 122,
     "metadata": {},
     "output_type": "execute_result"
    }
   ],
   "source": [
    "c.execute('''\n",
    "INSERT INTO Students (sid, name, login, age, gpa)\n",
    "VALUES (53675, 'Smith', 'smith@phys', 18, 3.5)\n",
    "''')\n",
    "c.execute('SELECT * from Students')\n",
    "c.fetchall()"
   ]
  },
  {
   "cell_type": "markdown",
   "metadata": {},
   "source": [
    "#### Example of deleting rows.\n",
    "* Where clause important to determine which rows to delete.\n",
    " * Without it, all rows would be deleted."
   ]
  },
  {
   "cell_type": "code",
   "execution_count": 123,
   "metadata": {},
   "outputs": [
    {
     "data": {
      "text/plain": [
       "[(53666, 'Jones', 'jones@cs', 18, 3.4)]"
      ]
     },
     "execution_count": 123,
     "metadata": {},
     "output_type": "execute_result"
    }
   ],
   "source": [
    "c.execute(\"DELETE FROM Students WHERE name = 'Smith'\")\n",
    "c.execute(\"SELECT * FROM Students S\")\n",
    "c.fetchall()"
   ]
  },
  {
   "cell_type": "markdown",
   "metadata": {},
   "source": [
    "### Return to lecture."
   ]
  },
  {
   "cell_type": "markdown",
   "metadata": {},
   "source": [
    "#### Now let's start over and this time add some constraints to our tables.\n",
    "* Note that we must explicitly turn foreign key support on in sqlite3 if we want it to enforce those integrity constraints. By default sqlite3 won't.\n"
   ]
  },
  {
   "cell_type": "code",
   "execution_count": 189,
   "metadata": {},
   "outputs": [
    {
     "data": {
      "text/plain": [
       "<sqlite3.Cursor at 0x10a792960>"
      ]
     },
     "execution_count": 189,
     "metadata": {},
     "output_type": "execute_result"
    }
   ],
   "source": [
    "conn = sqlite3.connect(':memory:')\n",
    "c = conn.cursor()\n",
    "c.execute(\"PRAGMA foreign_keys = 1\")\n",
    "\n",
    "c.execute('''\n",
    "CREATE TABLE Students (\n",
    "  sid INTEGER, \n",
    "  name TEXT,\n",
    "  login TEXT,\n",
    "  age INTEGER, \n",
    "  gpa REAL,\n",
    "  PRIMARY KEY (sid)\n",
    ")\n",
    "''')\n",
    "c.execute('''\n",
    "CREATE TABLE Enrolled (\n",
    "sid INTEGER,\n",
    "cid TEXT,\n",
    "grade TEXT,\n",
    "PRIMARY KEY (sid, cid),\n",
    "FOREIGN KEY (sid) REFERENCES Students (sid)\n",
    ")\n",
    "''')"
   ]
  },
  {
   "cell_type": "markdown",
   "metadata": {},
   "source": [
    "#### Add some students"
   ]
  },
  {
   "cell_type": "code",
   "execution_count": 190,
   "metadata": {},
   "outputs": [
    {
     "name": "stdout",
     "output_type": "stream",
     "text": [
      "(53650, 'Smith', 'smith@math', 19, 3.8)\n",
      "(53666, 'Jones', 'jones@cs', 18, 3.4)\n",
      "(53688, 'Smith', 'smith@cs', 18, 3.2)\n"
     ]
    }
   ],
   "source": [
    "c.execute('''\n",
    "INSERT INTO Students (sid, name, login, age, gpa)\n",
    "VALUES (53666, 'Jones', 'jones@cs', 18, 3.4)\n",
    "''')\n",
    "c.execute('''\n",
    "INSERT INTO Students (sid, name, login, age, gpa)\n",
    "VALUES (53688, 'Smith', 'smith@cs', 18, 3.2)\n",
    "''')\n",
    "c.execute('''\n",
    "INSERT INTO Students (sid, name, login, age, gpa)\n",
    "VALUES (53650, 'Smith', 'smith@math', 19, 3.8)\n",
    "''')\n",
    "c.execute(\"SELECT * from Students\")\n",
    "for r in c:\n",
    "    print(r)"
   ]
  },
  {
   "cell_type": "markdown",
   "metadata": {},
   "source": [
    "#### Try to add another student with the same sid as an existing student.\n",
    "* Primary key constraint specified in table schema prevents us from doing so."
   ]
  },
  {
   "cell_type": "code",
   "execution_count": 191,
   "metadata": {},
   "outputs": [
    {
     "ename": "IntegrityError",
     "evalue": "UNIQUE constraint failed: Students.sid",
     "output_type": "error",
     "traceback": [
      "\u001b[0;31m---------------------------------------------------------------------------\u001b[0m",
      "\u001b[0;31mIntegrityError\u001b[0m                            Traceback (most recent call last)",
      "\u001b[0;32m<ipython-input-191-ede805335aed>\u001b[0m in \u001b[0;36m<module>\u001b[0;34m\u001b[0m\n\u001b[0;32m----> 1\u001b[0;31m c.execute('''\n\u001b[0m\u001b[1;32m      2\u001b[0m \u001b[0mINSERT\u001b[0m \u001b[0mINTO\u001b[0m \u001b[0mStudents\u001b[0m \u001b[0;34m(\u001b[0m\u001b[0msid\u001b[0m\u001b[0;34m,\u001b[0m \u001b[0mname\u001b[0m\u001b[0;34m,\u001b[0m \u001b[0mlogin\u001b[0m\u001b[0;34m,\u001b[0m \u001b[0mage\u001b[0m\u001b[0;34m,\u001b[0m \u001b[0mgpa\u001b[0m\u001b[0;34m)\u001b[0m\u001b[0;34m\u001b[0m\u001b[0;34m\u001b[0m\u001b[0m\n\u001b[1;32m      3\u001b[0m \u001b[0mVALUES\u001b[0m \u001b[0;34m(\u001b[0m\u001b[0;36m53650\u001b[0m\u001b[0;34m,\u001b[0m \u001b[0;34m'Patel'\u001b[0m\u001b[0;34m,\u001b[0m \u001b[0;34m'kmp@cs'\u001b[0m\u001b[0;34m,\u001b[0m \u001b[0;36m50\u001b[0m\u001b[0;34m,\u001b[0m \u001b[0;36m4.0\u001b[0m\u001b[0;34m)\u001b[0m\u001b[0;34m\u001b[0m\u001b[0;34m\u001b[0m\u001b[0m\n\u001b[1;32m      4\u001b[0m ''')\n",
      "\u001b[0;31mIntegrityError\u001b[0m: UNIQUE constraint failed: Students.sid"
     ]
    }
   ],
   "source": [
    "c.execute('''\n",
    "INSERT INTO Students (sid, name, login, age, gpa)\n",
    "VALUES (53650, 'Patel', 'kmp@cs', 50, 4.0)\n",
    "''')"
   ]
  },
  {
   "cell_type": "markdown",
   "metadata": {},
   "source": [
    "#### Add some rows to Enrolled"
   ]
  },
  {
   "cell_type": "code",
   "execution_count": 192,
   "metadata": {},
   "outputs": [
    {
     "name": "stdout",
     "output_type": "stream",
     "text": [
      "(53688, 'Carnatic101', 'C')\n",
      "(53688, 'Reggae203', 'B')\n",
      "(53650, 'Topology112', 'A')\n",
      "(53666, 'History105', 'B')\n"
     ]
    }
   ],
   "source": [
    "c.execute('''\n",
    "INSERT INTO Enrolled (sid, cid, grade)\n",
    "VALUES (53688, 'Carnatic101', 'C')\n",
    "''')\n",
    "c.execute('''\n",
    "INSERT INTO Enrolled (sid, cid, grade)\n",
    "VALUES (53688, 'Reggae203', 'B')\n",
    "''')\n",
    "c.execute('''\n",
    "INSERT INTO Enrolled (sid, cid, grade)\n",
    "VALUES (53650, 'Topology112', 'A')\n",
    "''')\n",
    "c.execute('''\n",
    "INSERT INTO Enrolled (sid, cid, grade)\n",
    "VALUES (53666, 'History105', 'B')\n",
    "''')\n",
    "c.execute(\"SELECT * from Enrolled\")\n",
    "for r in c:\n",
    "    print(r)"
   ]
  },
  {
   "cell_type": "markdown",
   "metadata": {},
   "source": [
    "#### Attempt to add a row with same (sid, cid) combination as existing row.\n",
    "* Again, primary key constraint specified in Enrolled schema won't allow."
   ]
  },
  {
   "cell_type": "code",
   "execution_count": 193,
   "metadata": {},
   "outputs": [
    {
     "ename": "IntegrityError",
     "evalue": "UNIQUE constraint failed: Enrolled.sid, Enrolled.cid",
     "output_type": "error",
     "traceback": [
      "\u001b[0;31m---------------------------------------------------------------------------\u001b[0m",
      "\u001b[0;31mIntegrityError\u001b[0m                            Traceback (most recent call last)",
      "\u001b[0;32m<ipython-input-193-fed09c770a32>\u001b[0m in \u001b[0;36m<module>\u001b[0;34m\u001b[0m\n\u001b[0;32m----> 1\u001b[0;31m c.execute('''\n\u001b[0m\u001b[1;32m      2\u001b[0m \u001b[0mINSERT\u001b[0m \u001b[0mINTO\u001b[0m \u001b[0mEnrolled\u001b[0m \u001b[0;34m(\u001b[0m\u001b[0msid\u001b[0m\u001b[0;34m,\u001b[0m \u001b[0mcid\u001b[0m\u001b[0;34m,\u001b[0m \u001b[0mgrade\u001b[0m\u001b[0;34m)\u001b[0m\u001b[0;34m\u001b[0m\u001b[0;34m\u001b[0m\u001b[0m\n\u001b[1;32m      3\u001b[0m \u001b[0mVALUES\u001b[0m \u001b[0;34m(\u001b[0m\u001b[0;36m53666\u001b[0m\u001b[0;34m,\u001b[0m \u001b[0;34m'History105'\u001b[0m\u001b[0;34m,\u001b[0m \u001b[0;34m'A'\u001b[0m\u001b[0;34m)\u001b[0m\u001b[0;34m\u001b[0m\u001b[0;34m\u001b[0m\u001b[0m\n\u001b[1;32m      4\u001b[0m ''')\n",
      "\u001b[0;31mIntegrityError\u001b[0m: UNIQUE constraint failed: Enrolled.sid, Enrolled.cid"
     ]
    }
   ],
   "source": [
    "c.execute('''\n",
    "INSERT INTO Enrolled (sid, cid, grade)\n",
    "VALUES (53666, 'History105', 'A')\n",
    "''')"
   ]
  },
  {
   "cell_type": "markdown",
   "metadata": {},
   "source": [
    "#### Attempt to add a row to Enrolled that violates foreign key constraint\n",
    "* In this case, row in Students with sid 123123 does not exist"
   ]
  },
  {
   "cell_type": "code",
   "execution_count": 194,
   "metadata": {},
   "outputs": [
    {
     "ename": "IntegrityError",
     "evalue": "FOREIGN KEY constraint failed",
     "output_type": "error",
     "traceback": [
      "\u001b[0;31m---------------------------------------------------------------------------\u001b[0m",
      "\u001b[0;31mIntegrityError\u001b[0m                            Traceback (most recent call last)",
      "\u001b[0;32m<ipython-input-194-df3bbe274b74>\u001b[0m in \u001b[0;36m<module>\u001b[0;34m\u001b[0m\n\u001b[0;32m----> 1\u001b[0;31m c.execute('''\n\u001b[0m\u001b[1;32m      2\u001b[0m \u001b[0mINSERT\u001b[0m \u001b[0mINTO\u001b[0m \u001b[0mEnrolled\u001b[0m \u001b[0;34m(\u001b[0m\u001b[0msid\u001b[0m\u001b[0;34m,\u001b[0m \u001b[0mcid\u001b[0m\u001b[0;34m,\u001b[0m \u001b[0mgrade\u001b[0m\u001b[0;34m)\u001b[0m\u001b[0;34m\u001b[0m\u001b[0;34m\u001b[0m\u001b[0m\n\u001b[1;32m      3\u001b[0m \u001b[0mVALUES\u001b[0m \u001b[0;34m(\u001b[0m\u001b[0;36m123123\u001b[0m\u001b[0;34m,\u001b[0m \u001b[0;34m'History105'\u001b[0m\u001b[0;34m,\u001b[0m \u001b[0;34m'A'\u001b[0m\u001b[0;34m)\u001b[0m\u001b[0;34m\u001b[0m\u001b[0;34m\u001b[0m\u001b[0m\n\u001b[1;32m      4\u001b[0m ''')\n",
      "\u001b[0;31mIntegrityError\u001b[0m: FOREIGN KEY constraint failed"
     ]
    }
   ],
   "source": [
    "c.execute('''\n",
    "INSERT INTO Enrolled (sid, cid, grade)\n",
    "VALUES (123123, 'History105', 'A')\n",
    "''')"
   ]
  },
  {
   "cell_type": "markdown",
   "metadata": {},
   "source": [
    "#### Demonstrating ON DELETE options.\n",
    "If we delete row from Students with sid 53650, what should happen with rows in Enrolled that refer to that student as a foreign key?\n",
    "* NO ACTION\n",
    " * Essentially, don't allow.\n",
    " * This is the default for foreign key constraints if not otherwise specified.\n",
    "* CASCADE\n",
    " * Deletes all rows from Enrolled that have that foreign key as well.\n",
    "* SET NULL\n",
    " * Sets value to null\n",
    " * Allowed even if it would break primary key constraints\n",
    "* SET DEFAULT\n",
    " * Only makes sense if that column has a default defined\n",
    " * Default value also subject to other constraints if applicable."
   ]
  },
  {
   "cell_type": "code",
   "execution_count": 195,
   "metadata": {},
   "outputs": [
    {
     "ename": "IntegrityError",
     "evalue": "FOREIGN KEY constraint failed",
     "output_type": "error",
     "traceback": [
      "\u001b[0;31m---------------------------------------------------------------------------\u001b[0m",
      "\u001b[0;31mIntegrityError\u001b[0m                            Traceback (most recent call last)",
      "\u001b[0;32m<ipython-input-195-a1d04ec65122>\u001b[0m in \u001b[0;36m<module>\u001b[0;34m\u001b[0m\n\u001b[0;32m----> 1\u001b[0;31m c.execute('''\n\u001b[0m\u001b[1;32m      2\u001b[0m \u001b[0mDELETE\u001b[0m \u001b[0mFROM\u001b[0m \u001b[0mStudents\u001b[0m \u001b[0mwhere\u001b[0m \u001b[0msid\u001b[0m \u001b[0;34m=\u001b[0m \u001b[0;36m53650\u001b[0m\u001b[0;34m\u001b[0m\u001b[0;34m\u001b[0m\u001b[0m\n\u001b[1;32m      3\u001b[0m ''')\n",
      "\u001b[0;31mIntegrityError\u001b[0m: FOREIGN KEY constraint failed"
     ]
    }
   ],
   "source": [
    "c.execute('''\n",
    "DELETE FROM Students where sid = 53650\n",
    "''')"
   ]
  },
  {
   "cell_type": "code",
   "execution_count": 196,
   "metadata": {},
   "outputs": [
    {
     "name": "stdout",
     "output_type": "stream",
     "text": [
      "(53688, 'Carnatic101', 'C')\n",
      "(53688, 'Reggae203', 'B')\n",
      "(53650, 'Topology112', 'A')\n",
      "(53666, 'History105', 'B')\n"
     ]
    }
   ],
   "source": [
    "c.execute(\"SELECT * from Enrolled\")\n",
    "for r in c:\n",
    "    print(r)"
   ]
  }
 ],
 "metadata": {
  "kernelspec": {
   "display_name": "Python 3",
   "language": "python",
   "name": "python3"
  },
  "language_info": {
   "codemirror_mode": {
    "name": "ipython",
    "version": 3
   },
   "file_extension": ".py",
   "mimetype": "text/x-python",
   "name": "python",
   "nbconvert_exporter": "python",
   "pygments_lexer": "ipython3",
   "version": "3.8.5"
  }
 },
 "nbformat": 4,
 "nbformat_minor": 4
}
