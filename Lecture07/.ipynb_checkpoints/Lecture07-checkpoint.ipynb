{
 "cells": [
  {
   "cell_type": "code",
   "execution_count": 1,
   "metadata": {},
   "outputs": [],
   "source": [
    "#setup sqlite3\n",
    "import sqlite3"
   ]
  },
  {
   "cell_type": "code",
   "execution_count": 2,
   "metadata": {},
   "outputs": [],
   "source": [
    "#connect to Sailor Database\n",
    "db = sqlite3.connect('Sailors.db')\n",
    "cursor = db.cursor()"
   ]
  },
  {
   "cell_type": "code",
   "execution_count": 3,
   "metadata": {},
   "outputs": [
    {
     "data": {
      "application/vnd.jupyter.widget-view+json": {
       "model_id": "4fa0cc93688041988f5c15ef91041972",
       "version_major": 2,
       "version_minor": 0
      },
      "text/plain": [
       "VBox(children=(Textarea(value='', description='SQL:', layout=Layout(height='auto', width='600px')), HBox(child…"
      ]
     },
     "metadata": {},
     "output_type": "display_data"
    }
   ],
   "source": [
    "#cool tool you can use to insert queries\n",
    "#and then see the relation that is outputed\n",
    "import iSQL\n",
    "\n",
    "result = iSQL.parser(\"Sailors.db\")\n",
    "\n",
    "#try the SQL query: SELECT * FROM Sailors\n",
    "#now you can see the Sailors relation!\n",
    "\n",
    "#try the same thing for Reserves!\n",
    "#hint: SELECT * FROM Reserves\n",
    "\n",
    "#try the same thing for boats!\n",
    "\n",
    "#you can use this tool in the next couple of examples \n",
    "#to see the what you are outputting or you can just run the \n",
    "#output code I wrote to get the output in tuple form"
   ]
  },
  {
   "cell_type": "code",
   "execution_count": 4,
   "metadata": {},
   "outputs": [
    {
     "name": "stdout",
     "output_type": "stream",
     "text": [
      "[('Dustin',), ('Lubber',), ('Horatio',)]\n"
     ]
    }
   ],
   "source": [
    "#Find the sailor(s) who reserved boat 103\n",
    "sql = \"\"\"\n",
    "SELECT S.sname\n",
    "FROM Sailors S, Reserves R\n",
    "WHERE S.sid=R.sid AND R.bid=103\"\"\"\n",
    "\n",
    "#output\n",
    "cursor.execute(sql)\n",
    "print(cursor.fetchall())"
   ]
  },
  {
   "cell_type": "code",
   "execution_count": 5,
   "metadata": {},
   "outputs": [
    {
     "name": "stdout",
     "output_type": "stream",
     "text": [
      "[('Dustin',), ('Lubber',), ('Horatio',)]\n"
     ]
    }
   ],
   "source": [
    "#Find sailors who've reserved at least one boat\n",
    "sql1 = \"\"\"\n",
    "SELECT DISTINCT S.sname\n",
    "FROM Sailors S, Reserves R\n",
    "WHERE S.sid=R.sid\"\"\"\n",
    "\n",
    "#if we did not have the DISTINCT key word then the sailor\n",
    "#name could appear multiple times. For example, Dustin\n",
    "#reserved a boat 4 times, so his name would appear 4 times.\n",
    "#try the query for yourself without the DISTINCT keyword\n",
    "#and see what happens!\n",
    "\n",
    "\n",
    "#output\n",
    "cursor.execute(sql1)\n",
    "print(cursor.fetchall())"
   ]
  },
  {
   "cell_type": "code",
   "execution_count": 6,
   "metadata": {},
   "outputs": [
    {
     "name": "stdout",
     "output_type": "stream",
     "text": [
      "[(22, 'Dustin'), (31, 'Lubber'), (64, 'Horatio'), (74, 'Horatio')]\n"
     ]
    }
   ],
   "source": [
    "#but wait... two ppl have the name Horatio!\n",
    "#let's instead do DISTINCT sid\n",
    "sql2 = \"\"\"\n",
    "SELECT DISTINCT S.sid, S.sname\n",
    "FROM Sailors S, Reserves R\n",
    "WHERE S.sid=R.sid\"\"\"\n",
    "\n",
    "#output\n",
    "cursor.execute(sql2)\n",
    "print(cursor.fetchall())\n",
    "\n",
    "#now there are 4 results! much better!\n",
    "#Remember: DISTINCT applies to the output"
   ]
  },
  {
   "cell_type": "code",
   "execution_count": 7,
   "metadata": {},
   "outputs": [
    {
     "name": "stdout",
     "output_type": "stream",
     "text": [
      "[(45.0, 540.0, 2), (35.0, 420.0, 0)]\n"
     ]
    }
   ],
   "source": [
    "#let's try an example where we rename the columns\n",
    "sql3 = \"\"\"\n",
    "SELECT S.age, S.age*12.0 AS ageMonths, 10-S.rating AS revRating\n",
    "FROM Sailors S\n",
    "WHERE S.sname LIKE '_us%'\"\"\"\n",
    "\n",
    "#like is used for approximate string matching\n",
    "\n",
    "#try this in the cool tool in cell 3 so you can actually see the column names change!\n",
    "\n",
    "#output\n",
    "cursor.execute(sql3)\n",
    "print(cursor.fetchall())"
   ]
  },
  {
   "cell_type": "code",
   "execution_count": 8,
   "metadata": {},
   "outputs": [
    {
     "name": "stdout",
     "output_type": "stream",
     "text": [
      "[('Dustin', 22), ('Lubber', 31), ('Horatio', 64), ('Horatio', 74)]\n",
      "[('Dustin', 22), ('Horatio', 64), ('Horatio', 74), ('Lubber', 31)]\n"
     ]
    }
   ],
   "source": [
    "#Find sid's of sailors who've reserved a red OR a green boat\n",
    "sql4 = \"\"\"\n",
    "SELECT DISTINCT S.sname, S.sid\n",
    "FROM Sailors S, Boats B, Reserves R\n",
    "WHERE S.sid=R.sid AND R.bid=B.bid\n",
    "AND (B.color=\"red\" OR B.color=\"green\")\n",
    "\"\"\"\n",
    "cursor.execute(sql4)\n",
    "print(cursor.fetchall())\n",
    "\n",
    "\n",
    "#There's another way to do this w UNION\n",
    "#bc UNION is a set operation we don't need the DISTINCT keyword\n",
    "sql5 = \"\"\"\n",
    "SELECT S.sname, S.sid\n",
    "FROM Sailors S, Boats B, Reserves R\n",
    "WHERE S.sid=R.sid AND R.bid=B.bid\n",
    "AND B.color=\"red\"\n",
    "UNION\n",
    "SELECT S.sname, S.sid\n",
    "FROM Sailors S, Boats B, Reserves R\n",
    "WHERE S.sid=R.sid AND R.bid=B.bid\n",
    "AND B.color=\"green\"\n",
    "\"\"\"\n",
    "\n",
    "#try the sql5 query w EXCEPT instead of UNION to get a diff result\n",
    "\n",
    "cursor.execute(sql5)\n",
    "print(cursor.fetchall())"
   ]
  },
  {
   "cell_type": "code",
   "execution_count": 22,
   "metadata": {},
   "outputs": [
    {
     "name": "stdout",
     "output_type": "stream",
     "text": [
      "[('Dustin', 22), ('Lubber', 31)]\n"
     ]
    }
   ],
   "source": [
    "#Find sid's of sailors who've reserved a red AND a green boat\n",
    "sql6 = \"\"\"\n",
    "SELECT DISTINCT S.sname, S.sid\n",
    "FROM Sailors S, Boats B1, Reserves R1,\n",
    "                Boats B2, Reserves R2\n",
    "WHERE S.sid=R1.sid AND R1.bid=B1.bid\n",
    "AND S.sid=R2.sid AND R2.bid=B2.bid\n",
    "AND (B1.color=\"red\" AND B2.color=\"green\")\"\"\"\n",
    "\n",
    "#try running this query by taking one of the Reserves out\n",
    "#referencing the same reserves for B2... what happens?\n",
    "\n",
    "#There's also another way to do this problem! Use INTERSECT\n",
    "#hint: KMP does this in slide 12\n",
    "\n",
    "cursor.execute(sql6)\n",
    "print(cursor.fetchall())"
   ]
  },
  {
   "cell_type": "code",
   "execution_count": null,
   "metadata": {},
   "outputs": [],
   "source": [
    "#Nested Query Example\n",
    "\n",
    "#Find names of sailors who've never reserved boat 103\n",
    "sql7 = \"\"\"\n",
    "SELECT S.sid, S.sname\n",
    "FROM Sailors S\n",
    "WHERE S.sid NOT IN (SELECT DISTINCT R.sid\n",
    "                    FROM Reserves R\n",
    "                    WHERE R.bid 103)\"\"\"\n",
    "\n",
    "#can you write the code to get the output?"
   ]
  },
  {
   "cell_type": "code",
   "execution_count": null,
   "metadata": {},
   "outputs": [],
   "source": [
    "#Find names of sailors who've reserved any boat:\n",
    "sql8 = \"\"\"\n",
    "SELECT S.sid, S.sname\n",
    "FROM Sailors S\n",
    "WHERE EXISTS (SELECT *\n",
    "            FROM Reserves R\n",
    "            WHERE S.sid=R.sid)\"\"\"\n",
    "#can you write the code to get the output?"
   ]
  }
 ],
 "metadata": {
  "kernelspec": {
   "display_name": "Python 3",
   "language": "python",
   "name": "python3"
  },
  "language_info": {
   "codemirror_mode": {
    "name": "ipython",
    "version": 3
   },
   "file_extension": ".py",
   "mimetype": "text/x-python",
   "name": "python",
   "nbconvert_exporter": "python",
   "pygments_lexer": "ipython3",
   "version": "3.8.3"
  }
 },
 "nbformat": 4,
 "nbformat_minor": 4
}
