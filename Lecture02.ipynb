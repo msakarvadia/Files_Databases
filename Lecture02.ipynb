{
 "cells": [
  {
   "cell_type": "code",
   "execution_count": 3,
   "metadata": {
    "scrolled": true
   },
   "outputs": [
    {
     "name": "stdout",
     "output_type": "stream",
     "text": [
      "(2351, 6)\n"
     ]
    },
    {
     "data": {
      "text/html": [
       "<div>\n",
       "<style scoped>\n",
       "    .dataframe tbody tr th:only-of-type {\n",
       "        vertical-align: middle;\n",
       "    }\n",
       "\n",
       "    .dataframe tbody tr th {\n",
       "        vertical-align: top;\n",
       "    }\n",
       "\n",
       "    .dataframe thead th {\n",
       "        text-align: right;\n",
       "    }\n",
       "</style>\n",
       "<table border=\"1\" class=\"dataframe\">\n",
       "  <thead>\n",
       "    <tr style=\"text-align: right;\">\n",
       "      <th></th>\n",
       "      <th>Strain</th>\n",
       "      <th>Type</th>\n",
       "      <th>Rating</th>\n",
       "      <th>Effects</th>\n",
       "      <th>Flavor</th>\n",
       "      <th>Description</th>\n",
       "    </tr>\n",
       "  </thead>\n",
       "  <tbody>\n",
       "    <tr>\n",
       "      <th>0</th>\n",
       "      <td>100-Og</td>\n",
       "      <td>hybrid</td>\n",
       "      <td>4.0</td>\n",
       "      <td>Creative,Energetic,Tingly,Euphoric,Relaxed</td>\n",
       "      <td>Earthy,Sweet,Citrus</td>\n",
       "      <td>$100 OG is a 50/50 hybrid strain that packs a ...</td>\n",
       "    </tr>\n",
       "    <tr>\n",
       "      <th>1</th>\n",
       "      <td>98-White-Widow</td>\n",
       "      <td>hybrid</td>\n",
       "      <td>4.7</td>\n",
       "      <td>Relaxed,Aroused,Creative,Happy,Energetic</td>\n",
       "      <td>Flowery,Violet,Diesel</td>\n",
       "      <td>The ‘98 Aloha White Widow is an especially pot...</td>\n",
       "    </tr>\n",
       "    <tr>\n",
       "      <th>2</th>\n",
       "      <td>1024</td>\n",
       "      <td>sativa</td>\n",
       "      <td>4.4</td>\n",
       "      <td>Uplifted,Happy,Relaxed,Energetic,Creative</td>\n",
       "      <td>Spicy/Herbal,Sage,Woody</td>\n",
       "      <td>1024 is a sativa-dominant hybrid bred in Spain...</td>\n",
       "    </tr>\n",
       "    <tr>\n",
       "      <th>3</th>\n",
       "      <td>13-Dawgs</td>\n",
       "      <td>hybrid</td>\n",
       "      <td>4.2</td>\n",
       "      <td>Tingly,Creative,Hungry,Relaxed,Uplifted</td>\n",
       "      <td>Apricot,Citrus,Grapefruit</td>\n",
       "      <td>13 Dawgs is a hybrid of G13 and Chemdawg genet...</td>\n",
       "    </tr>\n",
       "    <tr>\n",
       "      <th>4</th>\n",
       "      <td>24K-Gold</td>\n",
       "      <td>hybrid</td>\n",
       "      <td>4.6</td>\n",
       "      <td>Happy,Relaxed,Euphoric,Uplifted,Talkative</td>\n",
       "      <td>Citrus,Earthy,Orange</td>\n",
       "      <td>Also known as Kosher Tangie, 24k Gold is a 60%...</td>\n",
       "    </tr>\n",
       "    <tr>\n",
       "      <th>...</th>\n",
       "      <td>...</td>\n",
       "      <td>...</td>\n",
       "      <td>...</td>\n",
       "      <td>...</td>\n",
       "      <td>...</td>\n",
       "      <td>...</td>\n",
       "    </tr>\n",
       "    <tr>\n",
       "      <th>2346</th>\n",
       "      <td>Zeus-Og</td>\n",
       "      <td>hybrid</td>\n",
       "      <td>4.7</td>\n",
       "      <td>Happy,Uplifted,Relaxed,Euphoric,Energetic</td>\n",
       "      <td>Earthy,Woody,Pine</td>\n",
       "      <td>Zeus OG is a hybrid cross between Pineapple OG...</td>\n",
       "    </tr>\n",
       "    <tr>\n",
       "      <th>2347</th>\n",
       "      <td>Zkittlez</td>\n",
       "      <td>indica</td>\n",
       "      <td>4.6</td>\n",
       "      <td>Relaxed,Happy,Euphoric,Uplifted,Sleepy</td>\n",
       "      <td>Sweet,Berry,Grape</td>\n",
       "      <td>Zkittlez is an indica-dominant mix of Grape Ap...</td>\n",
       "    </tr>\n",
       "    <tr>\n",
       "      <th>2348</th>\n",
       "      <td>Zombie-Kush</td>\n",
       "      <td>indica</td>\n",
       "      <td>5.0</td>\n",
       "      <td>Relaxed,Sleepy,Talkative,Euphoric,Happy</td>\n",
       "      <td>Earthy,Sweet,Spicy/Herbal</td>\n",
       "      <td>Zombie Kush by Ripper Seeds comes from two dif...</td>\n",
       "    </tr>\n",
       "    <tr>\n",
       "      <th>2349</th>\n",
       "      <td>Zombie-Og</td>\n",
       "      <td>indica</td>\n",
       "      <td>4.4</td>\n",
       "      <td>Relaxed,Sleepy,Euphoric,Happy,Hungry</td>\n",
       "      <td>Sweet,Earthy,Pungent</td>\n",
       "      <td>If you’re looking to transform into a flesh-ea...</td>\n",
       "    </tr>\n",
       "    <tr>\n",
       "      <th>2350</th>\n",
       "      <td>Zoom-Pie</td>\n",
       "      <td>indica</td>\n",
       "      <td>4.6</td>\n",
       "      <td>Hungry,Relaxed,Uplifted,Happy,Sleepy</td>\n",
       "      <td>Berry,Earthy,Pungent</td>\n",
       "      <td>Zoom Pie (also known as Zombie Pie) is a heavy...</td>\n",
       "    </tr>\n",
       "  </tbody>\n",
       "</table>\n",
       "<p>2351 rows × 6 columns</p>\n",
       "</div>"
      ],
      "text/plain": [
       "              Strain    Type  Rating  \\\n",
       "0             100-Og  hybrid     4.0   \n",
       "1     98-White-Widow  hybrid     4.7   \n",
       "2               1024  sativa     4.4   \n",
       "3           13-Dawgs  hybrid     4.2   \n",
       "4           24K-Gold  hybrid     4.6   \n",
       "...              ...     ...     ...   \n",
       "2346         Zeus-Og  hybrid     4.7   \n",
       "2347        Zkittlez  indica     4.6   \n",
       "2348     Zombie-Kush  indica     5.0   \n",
       "2349       Zombie-Og  indica     4.4   \n",
       "2350        Zoom-Pie  indica     4.6   \n",
       "\n",
       "                                         Effects                     Flavor  \\\n",
       "0     Creative,Energetic,Tingly,Euphoric,Relaxed        Earthy,Sweet,Citrus   \n",
       "1       Relaxed,Aroused,Creative,Happy,Energetic      Flowery,Violet,Diesel   \n",
       "2      Uplifted,Happy,Relaxed,Energetic,Creative    Spicy/Herbal,Sage,Woody   \n",
       "3        Tingly,Creative,Hungry,Relaxed,Uplifted  Apricot,Citrus,Grapefruit   \n",
       "4      Happy,Relaxed,Euphoric,Uplifted,Talkative       Citrus,Earthy,Orange   \n",
       "...                                          ...                        ...   \n",
       "2346   Happy,Uplifted,Relaxed,Euphoric,Energetic          Earthy,Woody,Pine   \n",
       "2347      Relaxed,Happy,Euphoric,Uplifted,Sleepy          Sweet,Berry,Grape   \n",
       "2348     Relaxed,Sleepy,Talkative,Euphoric,Happy  Earthy,Sweet,Spicy/Herbal   \n",
       "2349        Relaxed,Sleepy,Euphoric,Happy,Hungry       Sweet,Earthy,Pungent   \n",
       "2350        Hungry,Relaxed,Uplifted,Happy,Sleepy       Berry,Earthy,Pungent   \n",
       "\n",
       "                                            Description  \n",
       "0     $100 OG is a 50/50 hybrid strain that packs a ...  \n",
       "1     The ‘98 Aloha White Widow is an especially pot...  \n",
       "2     1024 is a sativa-dominant hybrid bred in Spain...  \n",
       "3     13 Dawgs is a hybrid of G13 and Chemdawg genet...  \n",
       "4     Also known as Kosher Tangie, 24k Gold is a 60%...  \n",
       "...                                                 ...  \n",
       "2346  Zeus OG is a hybrid cross between Pineapple OG...  \n",
       "2347  Zkittlez is an indica-dominant mix of Grape Ap...  \n",
       "2348  Zombie Kush by Ripper Seeds comes from two dif...  \n",
       "2349  If you’re looking to transform into a flesh-ea...  \n",
       "2350  Zoom Pie (also known as Zombie Pie) is a heavy...  \n",
       "\n",
       "[2351 rows x 6 columns]"
      ]
     },
     "execution_count": 3,
     "metadata": {},
     "output_type": "execute_result"
    }
   ],
   "source": [
    "import pandas as pd\n",
    "\n",
    "dataframe = pd.read_csv(\"http://www.cs.unc.edu/~kmp/cannabis.csv\")\n",
    "print(dataframe.shape)\n",
    "dataframe"
   ]
  },
  {
   "cell_type": "code",
   "execution_count": 20,
   "metadata": {},
   "outputs": [
    {
     "data": {
      "text/plain": [
       "{'Aroused',\n",
       " 'Creative',\n",
       " 'Dry Mouth',\n",
       " 'Energetic',\n",
       " 'Euphoric',\n",
       " 'Focused',\n",
       " 'Giggly',\n",
       " 'Happy',\n",
       " 'Hungry',\n",
       " 'None',\n",
       " 'Relaxed',\n",
       " 'Sleepy',\n",
       " 'Talkative',\n",
       " 'Tingly',\n",
       " 'Uplifted'}"
      ]
     },
     "execution_count": 20,
     "metadata": {},
     "output_type": "execute_result"
    }
   ],
   "source": [
    "all_effects = set()\n",
    "for index, row in dataframe.iterrows():\n",
    "    effects = row[\"Effects\"].split(',')\n",
    "    for e in effects:\n",
    "        all_effects.add(e)\n",
    "all_effects\n"
   ]
  },
  {
   "cell_type": "code",
   "execution_count": 21,
   "metadata": {},
   "outputs": [
    {
     "name": "stdout",
     "output_type": "stream",
     "text": [
      "hybrid 1212\n",
      "indica 699\n",
      "sativa 440\n"
     ]
    }
   ],
   "source": [
    "def CountOccurences(df, field):\n",
    "    \"\"\" Return a dictionary of distinct field entries with their number of occurrences\"\"\"\n",
    "    fieldCounts = {}\n",
    "    for index, row in df.iterrows():\n",
    "        if row[field] not in fieldCounts:\n",
    "            fieldCounts[row[field]] = 0\n",
    "        fieldCounts[row[field]] += 1\n",
    "    return fieldCounts\n",
    "\n",
    "types = CountOccurences(dataframe, 'Type')\n",
    "for t, count in sorted(types.items()):\n",
    "    print(t, count)\n"
   ]
  },
  {
   "cell_type": "code",
   "execution_count": 22,
   "metadata": {},
   "outputs": [
    {
     "name": "stdout",
     "output_type": "stream",
     "text": [
      "Aroused 92\n",
      "Creative 290\n",
      "Energetic 213\n",
      "Euphoric 579\n",
      "Focused 218\n",
      "Giggly 104\n",
      "Happy 659\n",
      "Hungry 146\n",
      "None 15\n",
      "Relaxed 610\n",
      "Sleepy 252\n",
      "Talkative 153\n",
      "Tingly 135\n",
      "Uplifted 553\n"
     ]
    }
   ],
   "source": [
    "EffectHistogram = {}\n",
    "for index, row in dataframe.iterrows():\n",
    "    if row[\"Rating\"] > 4.5:\n",
    "        for effect in row[\"Effects\"].split(','):\n",
    "            if not effect in EffectHistogram:\n",
    "                EffectHistogram[effect] = 0\n",
    "            EffectHistogram[effect] += 1\n",
    "\n",
    "for effect, count in sorted(EffectHistogram.items()):\n",
    "    print(effect, count)\n"
   ]
  },
  {
   "cell_type": "code",
   "execution_count": 23,
   "metadata": {},
   "outputs": [
    {
     "name": "stdout",
     "output_type": "stream",
     "text": [
      "None 15\n",
      "Aroused 92\n",
      "Giggly 104\n",
      "Tingly 135\n",
      "Hungry 146\n",
      "Talkative 153\n",
      "Energetic 213\n",
      "Focused 218\n",
      "Sleepy 252\n",
      "Creative 290\n",
      "Uplifted 553\n",
      "Euphoric 579\n",
      "Relaxed 610\n",
      "Happy 659\n"
     ]
    }
   ],
   "source": [
    "def getCount(histo_item):\n",
    "    return histo_item[1]\n",
    "\n",
    "for effect, count in sorted(EffectHistogram.items(), key = getCount):\n",
    "    print(effect, count)\n"
   ]
  },
  {
   "cell_type": "code",
   "execution_count": 24,
   "metadata": {},
   "outputs": [
    {
     "name": "stdout",
     "output_type": "stream",
     "text": [
      "None 15\n",
      "Aroused 92\n",
      "Giggly 104\n",
      "Tingly 135\n",
      "Hungry 146\n",
      "Talkative 153\n",
      "Energetic 213\n",
      "Focused 218\n",
      "Sleepy 252\n",
      "Creative 290\n",
      "Uplifted 553\n",
      "Euphoric 579\n",
      "Relaxed 610\n",
      "Happy 659\n"
     ]
    }
   ],
   "source": [
    "for effect, count in sorted(EffectHistogram.items(), key = lambda histo_item: histo_item[1]):\n",
    "    print(effect, count)\n"
   ]
  },
  {
   "cell_type": "code",
   "execution_count": 25,
   "metadata": {},
   "outputs": [
    {
     "name": "stdout",
     "output_type": "stream",
     "text": [
      "Min Pair: ('Aroused', 'Giggly') - 23 occurences\n",
      "Max Pair: ('Relaxed', 'Happy') - 1460 occurences\n"
     ]
    }
   ],
   "source": [
    "EffectCoOccurence = {}\n",
    "for index, row in dataframe.iterrows():\n",
    "    effects = row[\"Effects\"].split(\",\")\n",
    "    for e1 in effects:\n",
    "        if not e1 in EffectCoOccurence:\n",
    "            EffectCoOccurence[e1] = {}\n",
    "        for e2 in effects:\n",
    "            if e2 != e1:\n",
    "                if not e2 in EffectCoOccurence[e1]:\n",
    "                    EffectCoOccurence[e1][e2] = 0\n",
    "                EffectCoOccurence[e1][e2] += 1\n",
    "\n",
    "min_pair_count = 0\n",
    "min_pair = None\n",
    "\n",
    "max_pair_count = 0\n",
    "max_pair = None\n",
    "\n",
    "for e1 in EffectCoOccurence:\n",
    "    for e2 in EffectCoOccurence[e1]:\n",
    "        if min_pair is None or EffectCoOccurence[e1][e2] < min_pair_count:\n",
    "            min_pair_count = EffectCoOccurence[e1][e2]\n",
    "            min_pair = (e1, e2)\n",
    "        if max_pair is None or EffectCoOccurence[e1][e2] > max_pair_count:\n",
    "            max_pair_count = EffectCoOccurence[e1][e2]\n",
    "            max_pair = (e1, e2)\n",
    "\n",
    "print(f'Min Pair: {min_pair} - {min_pair_count} occurences')\n",
    "print(f'Max Pair: {max_pair} - {max_pair_count} occurences')\n"
   ]
  },
  {
   "cell_type": "code",
   "execution_count": null,
   "metadata": {},
   "outputs": [],
   "source": []
  }
 ],
 "metadata": {
  "kernelspec": {
   "display_name": "Python 3",
   "language": "python",
   "name": "python3"
  },
  "language_info": {
   "codemirror_mode": {
    "name": "ipython",
    "version": 3
   },
   "file_extension": ".py",
   "mimetype": "text/x-python",
   "name": "python",
   "nbconvert_exporter": "python",
   "pygments_lexer": "ipython3",
   "version": "3.8.5"
  }
 },
 "nbformat": 4,
 "nbformat_minor": 4
}
